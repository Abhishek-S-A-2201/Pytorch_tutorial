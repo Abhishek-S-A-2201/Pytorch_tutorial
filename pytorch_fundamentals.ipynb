{
 "cells": [
  {
   "cell_type": "markdown",
   "id": "a5ceedce-5dbc-49ea-af97-577db58c5d55",
   "metadata": {
    "jp-MarkdownHeadingCollapsed": true
   },
   "source": [
    "### Setup"
   ]
  },
  {
   "cell_type": "code",
   "execution_count": 2,
   "id": "3ae6dd9e-1f16-443e-bde0-40857b014331",
   "metadata": {},
   "outputs": [],
   "source": [
    "import torch\n",
    "import pandas\n",
    "import numpy\n",
    "import matplotlib"
   ]
  },
  {
   "cell_type": "code",
   "execution_count": 3,
   "id": "b7215da9-ba4d-4d19-a328-dee369a5d61a",
   "metadata": {},
   "outputs": [
    {
     "name": "stdout",
     "output_type": "stream",
     "text": [
      "2.1.0\n"
     ]
    }
   ],
   "source": [
    "print(torch.__version__)"
   ]
  },
  {
   "cell_type": "code",
   "execution_count": 4,
   "id": "59b8cae9-c15a-4409-8f2f-98a2655ac4fe",
   "metadata": {},
   "outputs": [
    {
     "name": "stdout",
     "output_type": "stream",
     "text": [
      "Hello World!!\n"
     ]
    }
   ],
   "source": [
    "print(\"Hello World!!\")"
   ]
  },
  {
   "cell_type": "markdown",
   "id": "2dfffd13-3cc8-4d6a-ba6f-01ed66653ede",
   "metadata": {
    "jp-MarkdownHeadingCollapsed": true
   },
   "source": [
    "### Introduction"
   ]
  },
  {
   "cell_type": "code",
   "execution_count": 11,
   "id": "d105ea5d-9592-4766-ab4f-66104374a631",
   "metadata": {},
   "outputs": [],
   "source": [
    "scalar = torch.tensor(4)"
   ]
  },
  {
   "cell_type": "code",
   "execution_count": 12,
   "id": "6c8ded6e-426f-4d07-92dd-8c44e9ce9552",
   "metadata": {},
   "outputs": [
    {
     "data": {
      "text/plain": [
       "0"
      ]
     },
     "execution_count": 12,
     "metadata": {},
     "output_type": "execute_result"
    }
   ],
   "source": [
    "scalar.ndim"
   ]
  },
  {
   "cell_type": "code",
   "execution_count": 13,
   "id": "cd7adac3-4387-40ac-843a-6735d85abdd2",
   "metadata": {},
   "outputs": [
    {
     "data": {
      "text/plain": [
       "4"
      ]
     },
     "execution_count": 13,
     "metadata": {},
     "output_type": "execute_result"
    }
   ],
   "source": [
    "scalar.item()"
   ]
  },
  {
   "cell_type": "code",
   "execution_count": 8,
   "id": "c503b35a-7f39-4c0e-9751-7f5f23e9c6e2",
   "metadata": {},
   "outputs": [],
   "source": [
    "vector = torch.tensor([2, 3])"
   ]
  },
  {
   "cell_type": "code",
   "execution_count": 9,
   "id": "6df2ceae-feab-4f65-8bcf-518eea9a25a1",
   "metadata": {},
   "outputs": [
    {
     "data": {
      "text/plain": [
       "1"
      ]
     },
     "execution_count": 9,
     "metadata": {},
     "output_type": "execute_result"
    }
   ],
   "source": [
    "vector.ndim"
   ]
  },
  {
   "cell_type": "code",
   "execution_count": 10,
   "id": "218cd21b-5951-4e90-be14-476519b2ee33",
   "metadata": {},
   "outputs": [
    {
     "data": {
      "text/plain": [
       "torch.Size([2])"
      ]
     },
     "execution_count": 10,
     "metadata": {},
     "output_type": "execute_result"
    }
   ],
   "source": [
    "vector.shape"
   ]
  },
  {
   "cell_type": "code",
   "execution_count": 15,
   "id": "922a4cdf-271f-4563-9303-81a5ff05aab5",
   "metadata": {},
   "outputs": [],
   "source": [
    "MATRIX = torch.tensor([[1,2],[3,4]])"
   ]
  },
  {
   "cell_type": "code",
   "execution_count": 16,
   "id": "eb9e3946-c3cd-44a2-947e-502bda2e8dac",
   "metadata": {},
   "outputs": [
    {
     "data": {
      "text/plain": [
       "2"
      ]
     },
     "execution_count": 16,
     "metadata": {},
     "output_type": "execute_result"
    }
   ],
   "source": [
    "MATRIX.ndim"
   ]
  },
  {
   "cell_type": "code",
   "execution_count": 18,
   "id": "b40f2444-93b7-4119-b871-56f88db4092e",
   "metadata": {},
   "outputs": [
    {
     "data": {
      "text/plain": [
       "torch.Size([2, 2])"
      ]
     },
     "execution_count": 18,
     "metadata": {},
     "output_type": "execute_result"
    }
   ],
   "source": [
    "MATRIX.shape"
   ]
  },
  {
   "cell_type": "code",
   "execution_count": 27,
   "id": "71864378-629f-4f61-aa36-97a971e46b89",
   "metadata": {},
   "outputs": [
    {
     "data": {
      "text/plain": [
       "tensor([3, 4])"
      ]
     },
     "execution_count": 27,
     "metadata": {},
     "output_type": "execute_result"
    }
   ],
   "source": [
    "MATRIX[1]"
   ]
  },
  {
   "cell_type": "code",
   "execution_count": 38,
   "id": "8deff1f4-0986-4ecf-84d8-bffa7c73a545",
   "metadata": {},
   "outputs": [
    {
     "data": {
      "text/plain": [
       "tensor([[[1, 2, 3],\n",
       "         [3, 4, 5],\n",
       "         [7, 8, 9]]])"
      ]
     },
     "execution_count": 38,
     "metadata": {},
     "output_type": "execute_result"
    }
   ],
   "source": [
    "TENSOR = torch.tensor([[[1,2,3], \n",
    "                        [3,4,5], \n",
    "                        [7,8,9]]])\n",
    "TENSOR"
   ]
  },
  {
   "cell_type": "code",
   "execution_count": 34,
   "id": "defaaf6b-02c2-4e62-b0e0-7b77d5ad3690",
   "metadata": {},
   "outputs": [
    {
     "data": {
      "text/plain": [
       "3"
      ]
     },
     "execution_count": 34,
     "metadata": {},
     "output_type": "execute_result"
    }
   ],
   "source": [
    "TENSOR.ndim"
   ]
  },
  {
   "cell_type": "code",
   "execution_count": 35,
   "id": "4b9eff46-f026-4df5-aa81-9664cd7f5054",
   "metadata": {},
   "outputs": [
    {
     "data": {
      "text/plain": [
       "torch.Size([1, 3, 3])"
      ]
     },
     "execution_count": 35,
     "metadata": {},
     "output_type": "execute_result"
    }
   ],
   "source": [
    "TENSOR.shape"
   ]
  },
  {
   "cell_type": "code",
   "execution_count": 43,
   "id": "1d375ca7-41dd-42f2-b946-b50dd27eff49",
   "metadata": {},
   "outputs": [
    {
     "data": {
      "text/plain": [
       "tensor([[1, 2, 3],\n",
       "        [3, 4, 5],\n",
       "        [7, 8, 9]])"
      ]
     },
     "execution_count": 43,
     "metadata": {},
     "output_type": "execute_result"
    }
   ],
   "source": [
    "TENSOR[0]"
   ]
  },
  {
   "cell_type": "markdown",
   "id": "a1d6679a-8cbb-4c21-ae7b-70ac0a31c0dc",
   "metadata": {
    "jp-MarkdownHeadingCollapsed": true
   },
   "source": [
    "### Random Tensors"
   ]
  },
  {
   "cell_type": "code",
   "execution_count": 56,
   "id": "6c10120c-b63c-4e60-88e7-1b7be8b42992",
   "metadata": {},
   "outputs": [
    {
     "data": {
      "text/plain": [
       "tensor([[[0.3560, 0.5256, 0.0115, 0.8292, 0.2396],\n",
       "         [0.6687, 0.0215, 0.8323, 0.8546, 0.4027],\n",
       "         [0.4446, 0.0771, 0.6086, 0.6770, 0.0509],\n",
       "         [0.4891, 0.2681, 0.9227, 0.0090, 0.3992]],\n",
       "\n",
       "        [[0.7273, 0.4375, 0.8748, 0.8587, 0.8488],\n",
       "         [0.1386, 0.5082, 0.7433, 0.2975, 0.8708],\n",
       "         [0.8413, 0.9668, 0.0976, 0.3898, 0.6214],\n",
       "         [0.8071, 0.9278, 0.4440, 0.6477, 0.0787]],\n",
       "\n",
       "        [[0.2628, 0.5529, 0.7587, 0.2555, 0.6987],\n",
       "         [0.9408, 0.4131, 0.8757, 0.2925, 0.3431],\n",
       "         [0.5477, 0.8497, 0.8109, 0.6572, 0.5775],\n",
       "         [0.1390, 0.2501, 0.9861, 0.6324, 0.7938]]])"
      ]
     },
     "execution_count": 56,
     "metadata": {},
     "output_type": "execute_result"
    }
   ],
   "source": [
    "random_tensor = torch.rand(3, 4, 5)\n",
    "random_tensor"
   ]
  },
  {
   "cell_type": "code",
   "execution_count": 54,
   "id": "78ada1ea-4d9c-4d9e-b4bb-60a723c28bc7",
   "metadata": {},
   "outputs": [
    {
     "data": {
      "text/plain": [
       "3"
      ]
     },
     "execution_count": 54,
     "metadata": {},
     "output_type": "execute_result"
    }
   ],
   "source": [
    "random_tensor.ndim"
   ]
  },
  {
   "cell_type": "code",
   "execution_count": 55,
   "id": "f2e2b8f6-0788-435f-a07d-62a6d1054da6",
   "metadata": {},
   "outputs": [
    {
     "data": {
      "text/plain": [
       "torch.Size([3, 4, 10])"
      ]
     },
     "execution_count": 55,
     "metadata": {},
     "output_type": "execute_result"
    }
   ],
   "source": [
    "random_tensor.shape"
   ]
  },
  {
   "cell_type": "code",
   "execution_count": 59,
   "id": "4bb47f4e-e38a-4302-9478-4e380583992a",
   "metadata": {},
   "outputs": [
    {
     "data": {
      "text/plain": [
       "(torch.Size([3, 224, 224]), 3)"
      ]
     },
     "execution_count": 59,
     "metadata": {},
     "output_type": "execute_result"
    }
   ],
   "source": [
    "random_image_tensor = torch.rand(size=(3, 224, 224))\n",
    "random_image_tensor.shape, random_image_tensor.ndim"
   ]
  },
  {
   "cell_type": "code",
   "execution_count": 60,
   "id": "3658912b-75c3-49c0-84e6-773a323ff6ec",
   "metadata": {},
   "outputs": [
    {
     "data": {
      "text/plain": [
       "tensor([[[0.5873, 0.9802, 0.8959,  ..., 0.9636, 0.2174, 0.8383],\n",
       "         [0.8932, 0.0228, 0.2443,  ..., 0.4890, 0.5178, 0.5758],\n",
       "         [0.9645, 0.9551, 0.0627,  ..., 0.5148, 0.0357, 0.0376],\n",
       "         ...,\n",
       "         [0.2279, 0.5512, 0.5793,  ..., 0.7331, 0.7418, 0.1832],\n",
       "         [0.9191, 0.7937, 0.5704,  ..., 0.8425, 0.0042, 0.8477],\n",
       "         [0.1645, 0.2745, 0.4927,  ..., 0.1830, 0.0851, 0.3123]],\n",
       "\n",
       "        [[0.0662, 0.9137, 0.9191,  ..., 0.2401, 0.0067, 0.8449],\n",
       "         [0.9890, 0.1523, 0.4684,  ..., 0.4378, 0.0302, 0.1243],\n",
       "         [0.7607, 0.2775, 0.3143,  ..., 0.2461, 0.8426, 0.9423],\n",
       "         ...,\n",
       "         [0.5985, 0.3321, 0.2033,  ..., 0.5578, 0.9896, 0.2849],\n",
       "         [0.7400, 0.1002, 0.5063,  ..., 0.4309, 0.8362, 0.6200],\n",
       "         [0.2154, 0.2750, 0.5773,  ..., 0.7650, 0.6209, 0.0419]],\n",
       "\n",
       "        [[0.9782, 0.8745, 0.5913,  ..., 0.7428, 0.3498, 0.9828],\n",
       "         [0.5247, 0.4185, 0.4360,  ..., 0.9283, 0.7406, 0.9497],\n",
       "         [0.1720, 0.8978, 0.9677,  ..., 0.7776, 0.1203, 0.6983],\n",
       "         ...,\n",
       "         [0.6480, 0.4095, 0.7867,  ..., 0.1995, 0.3392, 0.1030],\n",
       "         [0.1310, 0.8222, 0.3927,  ..., 0.4816, 0.7141, 0.5003],\n",
       "         [0.2803, 0.3579, 0.1192,  ..., 0.1018, 0.5500, 0.1023]]])"
      ]
     },
     "execution_count": 60,
     "metadata": {},
     "output_type": "execute_result"
    }
   ],
   "source": [
    "random_image_tensor"
   ]
  },
  {
   "cell_type": "markdown",
   "id": "2c49ca69-c0f8-4e77-bd3b-352ae33003c4",
   "metadata": {},
   "source": [
    "#### Zeros and Ones"
   ]
  },
  {
   "cell_type": "code",
   "execution_count": 62,
   "id": "c5b9a2dc-8532-44b7-9684-f4abe330fbc4",
   "metadata": {},
   "outputs": [],
   "source": [
    "zeros = torch.zeros(size=(3, 4))"
   ]
  },
  {
   "cell_type": "code",
   "execution_count": 63,
   "id": "0cbf1739-7833-4d28-9bb3-b9e34fcb3ace",
   "metadata": {},
   "outputs": [
    {
     "data": {
      "text/plain": [
       "tensor([[0., 0., 0., 0.],\n",
       "        [0., 0., 0., 0.],\n",
       "        [0., 0., 0., 0.]])"
      ]
     },
     "execution_count": 63,
     "metadata": {},
     "output_type": "execute_result"
    }
   ],
   "source": [
    "zeros"
   ]
  },
  {
   "cell_type": "code",
   "execution_count": 64,
   "id": "3c337fd8-2f48-46ae-a9cd-5e51b90ae239",
   "metadata": {},
   "outputs": [],
   "source": [
    "ones = torch.ones(size=(3, 4))"
   ]
  },
  {
   "cell_type": "code",
   "execution_count": 65,
   "id": "99a8fcd4-2b30-4b76-abeb-752e9475a63a",
   "metadata": {},
   "outputs": [
    {
     "data": {
      "text/plain": [
       "tensor([[1., 1., 1., 1.],\n",
       "        [1., 1., 1., 1.],\n",
       "        [1., 1., 1., 1.]])"
      ]
     },
     "execution_count": 65,
     "metadata": {},
     "output_type": "execute_result"
    }
   ],
   "source": [
    "ones"
   ]
  },
  {
   "cell_type": "code",
   "execution_count": 66,
   "id": "a5624fd0-6f85-445e-aa41-e63ac5c18ae8",
   "metadata": {},
   "outputs": [
    {
     "data": {
      "text/plain": [
       "torch.float32"
      ]
     },
     "execution_count": 66,
     "metadata": {},
     "output_type": "execute_result"
    }
   ],
   "source": [
    "ones.dtype"
   ]
  },
  {
   "cell_type": "markdown",
   "id": "76661850-bcdc-4396-930c-a2ca76fed00d",
   "metadata": {},
   "source": [
    "#### Creating a range of tensors and tensors-like"
   ]
  },
  {
   "cell_type": "code",
   "execution_count": 75,
   "id": "3a1a602e-21bb-432a-bc0c-089d434b91dc",
   "metadata": {},
   "outputs": [],
   "source": [
    "one_to_many = torch.arange(1, 1000, 37)"
   ]
  },
  {
   "cell_type": "code",
   "execution_count": 77,
   "id": "5c384ae2-39e4-4b1a-8135-3aa8838398ac",
   "metadata": {},
   "outputs": [
    {
     "data": {
      "text/plain": [
       "tensor([  1,  38,  75, 112, 149, 186, 223, 260, 297, 334, 371, 408, 445, 482,\n",
       "        519, 556, 593, 630, 667, 704, 741, 778, 815, 852, 889, 926, 963])"
      ]
     },
     "execution_count": 77,
     "metadata": {},
     "output_type": "execute_result"
    }
   ],
   "source": [
    "one_to_many"
   ]
  },
  {
   "cell_type": "code",
   "execution_count": 78,
   "id": "4e5071d4-7d2b-4a5b-a711-9950be50219a",
   "metadata": {},
   "outputs": [
    {
     "data": {
      "text/plain": [
       "torch.Size([27])"
      ]
     },
     "execution_count": 78,
     "metadata": {},
     "output_type": "execute_result"
    }
   ],
   "source": [
    "one_to_many.shape"
   ]
  },
  {
   "cell_type": "code",
   "execution_count": 79,
   "id": "3c02060c-b608-4381-b898-dcb50d5026f2",
   "metadata": {},
   "outputs": [],
   "source": [
    "many_numbers = torch.zeros_like(one_to_many)"
   ]
  },
  {
   "cell_type": "code",
   "execution_count": 80,
   "id": "fdaf8d40-3493-4b70-ab8f-ff8969dc84e3",
   "metadata": {},
   "outputs": [
    {
     "data": {
      "text/plain": [
       "tensor([0, 0, 0, 0, 0, 0, 0, 0, 0, 0, 0, 0, 0, 0, 0, 0, 0, 0, 0, 0, 0, 0, 0, 0,\n",
       "        0, 0, 0])"
      ]
     },
     "execution_count": 80,
     "metadata": {},
     "output_type": "execute_result"
    }
   ],
   "source": [
    "many_numbers"
   ]
  },
  {
   "cell_type": "markdown",
   "id": "bd8ed9bd-db76-4361-88ff-0ad8ec07a389",
   "metadata": {
    "jp-MarkdownHeadingCollapsed": true
   },
   "source": [
    "### Tensor datatypes"
   ]
  },
  {
   "cell_type": "code",
   "execution_count": 81,
   "id": "00c4f963-dad3-497f-a941-0865ca5e0c58",
   "metadata": {},
   "outputs": [],
   "source": [
    "float_32 = torch.rand(3,5)"
   ]
  },
  {
   "cell_type": "code",
   "execution_count": 82,
   "id": "4056a74e-412b-42e5-a121-dc5dd11a03e0",
   "metadata": {},
   "outputs": [
    {
     "data": {
      "text/plain": [
       "torch.float32"
      ]
     },
     "execution_count": 82,
     "metadata": {},
     "output_type": "execute_result"
    }
   ],
   "source": [
    "float_32.dtype"
   ]
  },
  {
   "cell_type": "code",
   "execution_count": 93,
   "id": "b0187294-b7ef-4530-9b77-90173924a0c1",
   "metadata": {},
   "outputs": [],
   "source": [
    "float_16 = torch.tensor([3., 6., 9.,], dtype=torch.half, device=\"mps\")"
   ]
  },
  {
   "cell_type": "code",
   "execution_count": 94,
   "id": "d6def36d-31d8-40f5-b409-da0e6de35422",
   "metadata": {},
   "outputs": [
    {
     "data": {
      "text/plain": [
       "torch.float16"
      ]
     },
     "execution_count": 94,
     "metadata": {},
     "output_type": "execute_result"
    }
   ],
   "source": [
    "float_16.dtype"
   ]
  },
  {
   "cell_type": "code",
   "execution_count": 96,
   "id": "6e1d517b-3d28-4052-80df-6d5422b8f68c",
   "metadata": {},
   "outputs": [],
   "source": [
    "float_16_again = float_32.type(torch.half)"
   ]
  },
  {
   "cell_type": "code",
   "execution_count": 97,
   "id": "de6c938d-c394-414e-861e-3888de91068c",
   "metadata": {},
   "outputs": [
    {
     "data": {
      "text/plain": [
       "tensor([[0.1028, 0.6597, 0.1027, 0.9912, 0.6509],\n",
       "        [0.0635, 0.4937, 0.6099, 0.0571, 0.8115],\n",
       "        [0.0806, 0.0809, 0.0571, 0.5396, 0.2124]], dtype=torch.float16)"
      ]
     },
     "execution_count": 97,
     "metadata": {},
     "output_type": "execute_result"
    }
   ],
   "source": [
    "float_16_again"
   ]
  },
  {
   "cell_type": "code",
   "execution_count": 99,
   "id": "833b1467-7271-4556-aa1b-6eff11ac2f0f",
   "metadata": {},
   "outputs": [
    {
     "data": {
      "text/plain": [
       "tensor([[0.0106, 0.4351, 0.0106, 0.9825, 0.4238],\n",
       "        [0.0040, 0.2437, 0.3719, 0.0033, 0.6586],\n",
       "        [0.0065, 0.0065, 0.0033, 0.2911, 0.0451]])"
      ]
     },
     "execution_count": 99,
     "metadata": {},
     "output_type": "execute_result"
    }
   ],
   "source": [
    "float_16_again * float_32"
   ]
  },
  {
   "cell_type": "code",
   "execution_count": 102,
   "id": "24053820-ca4d-4230-bc4e-ec5b4fabaf07",
   "metadata": {},
   "outputs": [],
   "source": [
    "int_32 = torch.tensor([3,6,9], dtype=torch.long)"
   ]
  },
  {
   "cell_type": "code",
   "execution_count": 104,
   "id": "80e916a2-71a5-411a-ba9d-a7a5063e40a3",
   "metadata": {},
   "outputs": [
    {
     "data": {
      "text/plain": [
       "torch.int64"
      ]
     },
     "execution_count": 104,
     "metadata": {},
     "output_type": "execute_result"
    }
   ],
   "source": [
    "int_32.dtype"
   ]
  },
  {
   "cell_type": "code",
   "execution_count": 105,
   "id": "fe117b7e-bdcf-4917-b11f-11d8690d1b27",
   "metadata": {},
   "outputs": [
    {
     "data": {
      "text/plain": [
       "tensor([3, 6, 9])"
      ]
     },
     "execution_count": 105,
     "metadata": {},
     "output_type": "execute_result"
    }
   ],
   "source": [
    "int_32"
   ]
  },
  {
   "cell_type": "markdown",
   "id": "9887ab48-2939-42c9-a634-2cd2154820d1",
   "metadata": {
    "jp-MarkdownHeadingCollapsed": true
   },
   "source": [
    "### Getting information from tensor"
   ]
  },
  {
   "cell_type": "code",
   "execution_count": 113,
   "id": "d1ad0968-01d6-43b4-8714-3740ab010641",
   "metadata": {},
   "outputs": [
    {
     "data": {
      "text/plain": [
       "device(type='mps', index=0)"
      ]
     },
     "execution_count": 113,
     "metadata": {},
     "output_type": "execute_result"
    }
   ],
   "source": [
    "float_16.device"
   ]
  },
  {
   "cell_type": "code",
   "execution_count": 109,
   "id": "f5b290a3-e316-4a8e-9fd9-8f89fc14f728",
   "metadata": {},
   "outputs": [
    {
     "name": "stdout",
     "output_type": "stream",
     "text": [
      "tensor([3., 6., 9.], device='mps:0', dtype=torch.float16)\n"
     ]
    }
   ],
   "source": [
    "print(float_16)"
   ]
  },
  {
   "cell_type": "code",
   "execution_count": 114,
   "id": "cc576ac0-138c-443a-bc99-50b121bf4a84",
   "metadata": {},
   "outputs": [],
   "source": [
    "tensor = torch.tensor([1,2,23])"
   ]
  },
  {
   "cell_type": "code",
   "execution_count": 120,
   "id": "8a14553e-d728-4645-8433-6ae8547eedec",
   "metadata": {},
   "outputs": [
    {
     "data": {
      "text/plain": [
       "tensor([11, 12, 33])"
      ]
     },
     "execution_count": 120,
     "metadata": {},
     "output_type": "execute_result"
    }
   ],
   "source": [
    "tensor + 10"
   ]
  },
  {
   "cell_type": "code",
   "execution_count": 121,
   "id": "9d8079f7-2306-4bdd-b4c9-73110005e7db",
   "metadata": {},
   "outputs": [
    {
     "data": {
      "text/plain": [
       "tensor([-18, -17,   4])"
      ]
     },
     "execution_count": 121,
     "metadata": {},
     "output_type": "execute_result"
    }
   ],
   "source": [
    "tensor - 19"
   ]
  },
  {
   "cell_type": "code",
   "execution_count": 122,
   "id": "86cafba7-3e64-4852-a484-c63e1ff58777",
   "metadata": {},
   "outputs": [
    {
     "data": {
      "text/plain": [
       "tensor([ 10,  20, 230])"
      ]
     },
     "execution_count": 122,
     "metadata": {},
     "output_type": "execute_result"
    }
   ],
   "source": [
    "tensor * 10"
   ]
  },
  {
   "cell_type": "code",
   "execution_count": 123,
   "id": "e9e635ad-ef48-41cb-ac39-60427e526711",
   "metadata": {},
   "outputs": [
    {
     "data": {
      "text/plain": [
       "tensor([0.0175, 0.0351, 0.4035])"
      ]
     },
     "execution_count": 123,
     "metadata": {},
     "output_type": "execute_result"
    }
   ],
   "source": [
    "tensor/57"
   ]
  },
  {
   "cell_type": "code",
   "execution_count": 124,
   "id": "3c3c14d3-94b5-4fde-840d-434124384f70",
   "metadata": {},
   "outputs": [
    {
     "data": {
      "text/plain": [
       "tensor([ 10,  20, 230])"
      ]
     },
     "execution_count": 124,
     "metadata": {},
     "output_type": "execute_result"
    }
   ],
   "source": [
    "torch.mul(tensor, 10)"
   ]
  },
  {
   "cell_type": "code",
   "execution_count": 125,
   "id": "76b5f9fd-7e98-4e5f-aea4-283cb23b80d2",
   "metadata": {},
   "outputs": [
    {
     "data": {
      "text/plain": [
       "tensor([11, 12, 33])"
      ]
     },
     "execution_count": 125,
     "metadata": {},
     "output_type": "execute_result"
    }
   ],
   "source": [
    "torch.add(tensor, 10)"
   ]
  },
  {
   "cell_type": "code",
   "execution_count": 126,
   "id": "b3438ff7-ee7d-4434-939e-bcd6597f9843",
   "metadata": {},
   "outputs": [
    {
     "data": {
      "text/plain": [
       "tensor([-33, -32, -11])"
      ]
     },
     "execution_count": 126,
     "metadata": {},
     "output_type": "execute_result"
    }
   ],
   "source": [
    "torch.sub(tensor, 34)"
   ]
  },
  {
   "cell_type": "code",
   "execution_count": 128,
   "id": "2a3a1073-36d0-4dab-8fe8-c943ceb45469",
   "metadata": {},
   "outputs": [
    {
     "data": {
      "text/plain": [
       "tensor([0.0179, 0.0357, 0.4107])"
      ]
     },
     "execution_count": 128,
     "metadata": {},
     "output_type": "execute_result"
    }
   ],
   "source": [
    "torch.div(tensor, 56)"
   ]
  },
  {
   "cell_type": "code",
   "execution_count": 130,
   "id": "fe3bb82c-1685-46a0-a7ec-a8277e3c116a",
   "metadata": {},
   "outputs": [
    {
     "data": {
      "text/plain": [
       "tensor(534)"
      ]
     },
     "execution_count": 130,
     "metadata": {},
     "output_type": "execute_result"
    }
   ],
   "source": [
    "tensor.matmul(tensor)"
   ]
  },
  {
   "cell_type": "code",
   "execution_count": 131,
   "id": "fcafd001-3e39-4610-ad0c-46439dedb3fe",
   "metadata": {},
   "outputs": [],
   "source": [
    "square = torch.rand(3,3)"
   ]
  },
  {
   "cell_type": "code",
   "execution_count": 134,
   "id": "f6b32d04-b3e7-41e6-b25a-87b26fbfe4f5",
   "metadata": {},
   "outputs": [
    {
     "data": {
      "text/plain": [
       "tensor([[0.7585, 0.5946, 0.2990],\n",
       "        [1.3175, 1.2445, 0.6239],\n",
       "        [1.5174, 1.3616, 0.7951]])"
      ]
     },
     "execution_count": 134,
     "metadata": {},
     "output_type": "execute_result"
    }
   ],
   "source": [
    "torch.matmul(square, square)"
   ]
  },
  {
   "cell_type": "code",
   "execution_count": 135,
   "id": "82ffa679-4b96-486a-bd85-2c90c4ffb330",
   "metadata": {},
   "outputs": [
    {
     "data": {
      "text/plain": [
       "tensor([[0.6169, 0.4764, 0.0248],\n",
       "        [0.7555, 0.5811, 0.5704],\n",
       "        [0.7230, 0.9587, 0.4799]])"
      ]
     },
     "execution_count": 135,
     "metadata": {},
     "output_type": "execute_result"
    }
   ],
   "source": [
    "square"
   ]
  },
  {
   "cell_type": "code",
   "execution_count": 200,
   "id": "b8cda423-2890-4e79-8a45-ef3835e9839e",
   "metadata": {},
   "outputs": [],
   "source": [
    "tensor = torch.rand(size=(3, 2048,2048), dtype=torch.float32, device=\"mps\")"
   ]
  },
  {
   "cell_type": "code",
   "execution_count": 201,
   "id": "b70b270f-62f1-4dee-aed0-c490a8feb51b",
   "metadata": {},
   "outputs": [
    {
     "name": "stdout",
     "output_type": "stream",
     "text": [
      "CPU times: user 1.75 ms, sys: 815 µs, total: 2.57 ms\n",
      "Wall time: 1.18 ms\n"
     ]
    },
    {
     "data": {
      "text/plain": [
       "tensor([[[514.5256, 525.7849, 531.0200,  ..., 522.4373, 512.2709, 525.6021],\n",
       "         [521.8759, 521.3867, 521.6195,  ..., 530.5706, 506.4531, 518.9810],\n",
       "         [517.9263, 516.9616, 517.4608,  ..., 518.3218, 506.6769, 513.0424],\n",
       "         ...,\n",
       "         [511.9644, 521.7617, 529.9122,  ..., 533.3997, 512.1505, 522.1904],\n",
       "         [502.2639, 518.0090, 520.4899,  ..., 517.8257, 502.7771, 515.5790],\n",
       "         [510.1935, 512.8108, 516.8987,  ..., 520.1022, 504.2745, 514.2953]],\n",
       "\n",
       "        [[489.2306, 493.3428, 505.3479,  ..., 512.3296, 511.6401, 509.1758],\n",
       "         [495.9610, 499.9890, 507.5529,  ..., 521.7125, 512.8167, 513.4179],\n",
       "         [494.2979, 490.9902, 497.9576,  ..., 517.0438, 512.9352, 503.9546],\n",
       "         ...,\n",
       "         [510.1366, 516.9266, 529.0056,  ..., 526.5761, 534.7216, 528.7946],\n",
       "         [498.6093, 495.7390, 511.7073,  ..., 517.6564, 518.3395, 517.7852],\n",
       "         [502.0342, 506.1115, 514.8370,  ..., 521.5438, 518.1093, 519.1119]],\n",
       "\n",
       "        [[495.4554, 495.1933, 489.2335,  ..., 512.8965, 494.2744, 499.0399],\n",
       "         [519.2995, 524.5956, 520.3136,  ..., 532.1913, 519.6267, 521.7609],\n",
       "         [530.4733, 534.3635, 533.5012,  ..., 547.0970, 533.3946, 536.8395],\n",
       "         ...,\n",
       "         [503.7903, 510.1514, 503.4671,  ..., 522.0251, 497.6784, 517.0144],\n",
       "         [502.7040, 500.8221, 494.1471,  ..., 516.6520, 490.9087, 507.4573],\n",
       "         [512.1262, 508.9412, 507.2510,  ..., 531.8632, 501.7157, 512.1852]]],\n",
       "       device='mps:0')"
      ]
     },
     "execution_count": 201,
     "metadata": {},
     "output_type": "execute_result"
    }
   ],
   "source": [
    "%%time\n",
    "torch.matmul(tensor, tensor)"
   ]
  },
  {
   "cell_type": "code",
   "execution_count": 202,
   "id": "3945ff11-e24e-4c91-9dac-431da38bbf6c",
   "metadata": {},
   "outputs": [],
   "source": [
    "tensor = torch.rand(size=(3, 2048,2048), dtype=torch.float32)"
   ]
  },
  {
   "cell_type": "code",
   "execution_count": 203,
   "id": "e60d8882-9c3a-4a67-b006-023665e1ed71",
   "metadata": {},
   "outputs": [
    {
     "name": "stdout",
     "output_type": "stream",
     "text": [
      "CPU times: user 99.7 ms, sys: 14.7 ms, total: 114 ms\n",
      "Wall time: 58.4 ms\n"
     ]
    },
    {
     "data": {
      "text/plain": [
       "tensor([[[527.3310, 526.5480, 520.0010,  ..., 523.8356, 518.7441, 520.6436],\n",
       "         [523.3635, 511.8029, 521.9185,  ..., 517.7928, 512.7474, 524.3817],\n",
       "         [506.4398, 510.6282, 507.0958,  ..., 505.6284, 494.4153, 510.2184],\n",
       "         ...,\n",
       "         [509.0320, 507.3196, 507.9975,  ..., 502.4345, 498.2432, 519.4023],\n",
       "         [506.5676, 505.7324, 501.9381,  ..., 497.9286, 492.7663, 514.1630],\n",
       "         [503.4186, 503.6321, 501.5042,  ..., 494.7177, 496.1634, 503.3508]],\n",
       "\n",
       "        [[503.1441, 503.4769, 492.2256,  ..., 504.5554, 515.5139, 505.1707],\n",
       "         [519.5369, 530.5468, 510.0084,  ..., 522.6744, 526.2000, 519.8041],\n",
       "         [515.5078, 509.5230, 497.5610,  ..., 509.5176, 514.4039, 500.3527],\n",
       "         ...,\n",
       "         [521.1116, 519.0095, 499.3332,  ..., 517.0147, 518.7211, 512.9101],\n",
       "         [513.6877, 514.3601, 498.3339,  ..., 515.2720, 528.9153, 513.6222],\n",
       "         [510.2638, 505.9183, 500.7943,  ..., 514.5947, 518.0019, 513.2054]],\n",
       "\n",
       "        [[525.3148, 514.3557, 525.7794,  ..., 501.4408, 515.2658, 519.9975],\n",
       "         [493.9287, 499.4731, 512.2811,  ..., 491.3809, 501.8130, 495.8191],\n",
       "         [513.5018, 510.4905, 519.9953,  ..., 495.5772, 499.2368, 520.8309],\n",
       "         ...,\n",
       "         [505.3137, 501.4993, 512.1880,  ..., 495.1327, 506.6746, 507.2591],\n",
       "         [515.2896, 509.3555, 520.9848,  ..., 500.6008, 516.2936, 517.6760],\n",
       "         [515.3524, 511.9998, 529.7535,  ..., 501.2192, 514.9043, 516.4088]]])"
      ]
     },
     "execution_count": 203,
     "metadata": {},
     "output_type": "execute_result"
    }
   ],
   "source": [
    "%%time\n",
    "torch.matmul(tensor, tensor)"
   ]
  },
  {
   "cell_type": "code",
   "execution_count": 176,
   "id": "a1e50fe0-0090-4815-bf52-840b479c0766",
   "metadata": {},
   "outputs": [
    {
     "data": {
      "text/plain": [
       "device(type='cpu')"
      ]
     },
     "execution_count": 176,
     "metadata": {},
     "output_type": "execute_result"
    }
   ],
   "source": [
    "tensor.device"
   ]
  },
  {
   "cell_type": "code",
   "execution_count": null,
   "id": "1089acec-bd3c-4bcd-b483-8897d68f7753",
   "metadata": {},
   "outputs": [],
   "source": []
  }
 ],
 "metadata": {
  "kernelspec": {
   "display_name": "Python 3 (ipykernel)",
   "language": "python",
   "name": "python3"
  },
  "language_info": {
   "codemirror_mode": {
    "name": "ipython",
    "version": 3
   },
   "file_extension": ".py",
   "mimetype": "text/x-python",
   "name": "python",
   "nbconvert_exporter": "python",
   "pygments_lexer": "ipython3",
   "version": "3.10.12"
  }
 },
 "nbformat": 4,
 "nbformat_minor": 5
}
